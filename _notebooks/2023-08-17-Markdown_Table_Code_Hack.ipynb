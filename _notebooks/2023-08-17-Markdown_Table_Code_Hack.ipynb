{
 "cells": [
  {
   "attachments": {},
   "cell_type": "markdown",
   "metadata": {},
   "source": [
    "---\n",
    "toc: true\n",
    "comments: true\n",
    "layout: post\n",
    "title: Hacks\n",
    "description: \n",
    "courses: { compsci: {week: 1} }\n",
    "type: hacks\n",
    "---"
   ]
  },
  {
   "attachments": {},
   "cell_type": "markdown",
   "metadata": {},
   "source": [
    "### Pseudo code IF Code Block\n",
    "```\n",
    "a ← 1\n",
    "b ← 1\n",
    "\n",
    "IF (a = b) {\n",
    "   DISPLAY(\"A equals B\")\n",
    "}\n",
    "```"
   ]
  },
  {
   "cell_type": "code",
   "execution_count": null,
   "metadata": {},
   "outputs": [
    {
     "name": "stdout",
     "output_type": "stream",
     "text": [
      "A equals B\n"
     ]
    }
   ],
   "source": [
    "# Python code if block to match Pseudo Code\n",
    "a = 1\n",
    "b = 1\n",
    "if (a == b):\n",
    "    # Python uses indent to establish code block, Teacher use tab key\n",
    "    print(\"A equals B\")"
   ]
  },
  {
   "attachments": {},
   "cell_type": "markdown",
   "metadata": {},
   "source": [
    "## Hacks\n",
    "> cs .. - go back 1 directory\n",
    "<br>\n",
    "mkdir- make directory\n",
    "<br>\n",
    "vi = view/create file\n",
    "<br>\n",
    "git clone - clone a directory\n",
    "<br>\n",
    "clear - clear everthing\n",
    "<br>\n",
    "README.md - a file that has a description of what your post is.\n"
   ]
  },
  {
   "attachments": {},
   "cell_type": "markdown",
   "metadata": {},
   "source": []
  },
  {
   "cell_type": "markdown",
   "metadata": {},
   "source": [
    "## Struggles\n",
    ">Understanding and using commands<br>-Realizing that I cloned the wrong repository<br>-Github account problems (used school account)<br>-Learning how to upload custom pictures into my blog"
   ]
  }
 ],
 "metadata": {
  "kernelspec": {
   "display_name": "base",
   "language": "python",
   "name": "python3"
  },
  "language_info": {
   "codemirror_mode": {
    "name": "ipython",
    "version": 3
   },
   "file_extension": ".py",
   "mimetype": "text/x-python",
   "name": "python",
   "nbconvert_exporter": "python",
   "pygments_lexer": "ipython3",
   "version": "3.9.12"
  },
  "orig_nbformat": 4
 },
 "nbformat": 4,
 "nbformat_minor": 2
}
